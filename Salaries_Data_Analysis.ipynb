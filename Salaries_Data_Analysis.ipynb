{
 "cells": [
  {
   "cell_type": "code",
   "execution_count": 1,
   "id": "e55775b4-d27f-4763-aae4-10b00fd23127",
   "metadata": {},
   "outputs": [],
   "source": [
    "import numpy as np\n",
    "import pandas as pd\n",
    "import matplotlib.pyplot as plt\n",
    "import seaborn as sns"
   ]
  },
  {
   "cell_type": "code",
   "execution_count": 2,
   "id": "8f7c96c8-e7f7-482d-a314-2b58d96f6e11",
   "metadata": {},
   "outputs": [
    {
     "data": {
      "text/html": [
       "<div>\n",
       "<style scoped>\n",
       "    .dataframe tbody tr th:only-of-type {\n",
       "        vertical-align: middle;\n",
       "    }\n",
       "\n",
       "    .dataframe tbody tr th {\n",
       "        vertical-align: top;\n",
       "    }\n",
       "\n",
       "    .dataframe thead th {\n",
       "        text-align: right;\n",
       "    }\n",
       "</style>\n",
       "<table border=\"1\" class=\"dataframe\">\n",
       "  <thead>\n",
       "    <tr style=\"text-align: right;\">\n",
       "      <th></th>\n",
       "      <th>Id</th>\n",
       "      <th>EmployeeName</th>\n",
       "      <th>JobTitle</th>\n",
       "      <th>BasePay</th>\n",
       "      <th>OvertimePay</th>\n",
       "      <th>OtherPay</th>\n",
       "      <th>Benefits</th>\n",
       "      <th>TotalPay</th>\n",
       "      <th>TotalPayBenefits</th>\n",
       "      <th>Year</th>\n",
       "      <th>Notes</th>\n",
       "      <th>Agency</th>\n",
       "      <th>Status</th>\n",
       "    </tr>\n",
       "  </thead>\n",
       "  <tbody>\n",
       "    <tr>\n",
       "      <th>0</th>\n",
       "      <td>1</td>\n",
       "      <td>NATHANIEL FORD</td>\n",
       "      <td>GENERAL MANAGER-METROPOLITAN TRANSIT AUTHORITY</td>\n",
       "      <td>167411.18</td>\n",
       "      <td>0.00</td>\n",
       "      <td>400184.25</td>\n",
       "      <td>NaN</td>\n",
       "      <td>567595.43</td>\n",
       "      <td>567595.43</td>\n",
       "      <td>2011</td>\n",
       "      <td>NaN</td>\n",
       "      <td>San Francisco</td>\n",
       "      <td>NaN</td>\n",
       "    </tr>\n",
       "    <tr>\n",
       "      <th>1</th>\n",
       "      <td>2</td>\n",
       "      <td>GARY JIMENEZ</td>\n",
       "      <td>CAPTAIN III (POLICE DEPARTMENT)</td>\n",
       "      <td>155966.02</td>\n",
       "      <td>245131.88</td>\n",
       "      <td>137811.38</td>\n",
       "      <td>NaN</td>\n",
       "      <td>538909.28</td>\n",
       "      <td>538909.28</td>\n",
       "      <td>2011</td>\n",
       "      <td>NaN</td>\n",
       "      <td>San Francisco</td>\n",
       "      <td>NaN</td>\n",
       "    </tr>\n",
       "    <tr>\n",
       "      <th>2</th>\n",
       "      <td>3</td>\n",
       "      <td>ALBERT PARDINI</td>\n",
       "      <td>CAPTAIN III (POLICE DEPARTMENT)</td>\n",
       "      <td>212739.13</td>\n",
       "      <td>106088.18</td>\n",
       "      <td>16452.60</td>\n",
       "      <td>NaN</td>\n",
       "      <td>335279.91</td>\n",
       "      <td>335279.91</td>\n",
       "      <td>2011</td>\n",
       "      <td>NaN</td>\n",
       "      <td>San Francisco</td>\n",
       "      <td>NaN</td>\n",
       "    </tr>\n",
       "    <tr>\n",
       "      <th>3</th>\n",
       "      <td>4</td>\n",
       "      <td>CHRISTOPHER CHONG</td>\n",
       "      <td>WIRE ROPE CABLE MAINTENANCE MECHANIC</td>\n",
       "      <td>77916.00</td>\n",
       "      <td>56120.71</td>\n",
       "      <td>198306.90</td>\n",
       "      <td>NaN</td>\n",
       "      <td>332343.61</td>\n",
       "      <td>332343.61</td>\n",
       "      <td>2011</td>\n",
       "      <td>NaN</td>\n",
       "      <td>San Francisco</td>\n",
       "      <td>NaN</td>\n",
       "    </tr>\n",
       "    <tr>\n",
       "      <th>4</th>\n",
       "      <td>5</td>\n",
       "      <td>PATRICK GARDNER</td>\n",
       "      <td>DEPUTY CHIEF OF DEPARTMENT,(FIRE DEPARTMENT)</td>\n",
       "      <td>134401.60</td>\n",
       "      <td>9737.00</td>\n",
       "      <td>182234.59</td>\n",
       "      <td>NaN</td>\n",
       "      <td>326373.19</td>\n",
       "      <td>326373.19</td>\n",
       "      <td>2011</td>\n",
       "      <td>NaN</td>\n",
       "      <td>San Francisco</td>\n",
       "      <td>NaN</td>\n",
       "    </tr>\n",
       "  </tbody>\n",
       "</table>\n",
       "</div>"
      ],
      "text/plain": [
       "   Id       EmployeeName                                        JobTitle  \\\n",
       "0   1     NATHANIEL FORD  GENERAL MANAGER-METROPOLITAN TRANSIT AUTHORITY   \n",
       "1   2       GARY JIMENEZ                 CAPTAIN III (POLICE DEPARTMENT)   \n",
       "2   3     ALBERT PARDINI                 CAPTAIN III (POLICE DEPARTMENT)   \n",
       "3   4  CHRISTOPHER CHONG            WIRE ROPE CABLE MAINTENANCE MECHANIC   \n",
       "4   5    PATRICK GARDNER    DEPUTY CHIEF OF DEPARTMENT,(FIRE DEPARTMENT)   \n",
       "\n",
       "     BasePay  OvertimePay   OtherPay  Benefits   TotalPay  TotalPayBenefits  \\\n",
       "0  167411.18         0.00  400184.25       NaN  567595.43         567595.43   \n",
       "1  155966.02    245131.88  137811.38       NaN  538909.28         538909.28   \n",
       "2  212739.13    106088.18   16452.60       NaN  335279.91         335279.91   \n",
       "3   77916.00     56120.71  198306.90       NaN  332343.61         332343.61   \n",
       "4  134401.60      9737.00  182234.59       NaN  326373.19         326373.19   \n",
       "\n",
       "   Year  Notes         Agency  Status  \n",
       "0  2011    NaN  San Francisco     NaN  \n",
       "1  2011    NaN  San Francisco     NaN  \n",
       "2  2011    NaN  San Francisco     NaN  \n",
       "3  2011    NaN  San Francisco     NaN  \n",
       "4  2011    NaN  San Francisco     NaN  "
      ]
     },
     "execution_count": 2,
     "metadata": {},
     "output_type": "execute_result"
    }
   ],
   "source": [
    "df = pd.read_csv('Salaries.csv')\n",
    "df.head()"
   ]
  },
  {
   "cell_type": "markdown",
   "id": "1248a47c-d4aa-4e52-99fe-38e1e64a835f",
   "metadata": {},
   "source": [
    "### *Basic Data Exploration:* Identify the number of rows and columns in the dataset, determine the data types of each column, and check for missing values in each column."
   ]
  },
  {
   "cell_type": "code",
   "execution_count": 3,
   "id": "2065cea8-a132-457a-b4c2-d57d15913b37",
   "metadata": {},
   "outputs": [
    {
     "name": "stdout",
     "output_type": "stream",
     "text": [
      "(148654, 13)\n"
     ]
    }
   ],
   "source": [
    "print(df.shape)"
   ]
  },
  {
   "cell_type": "code",
   "execution_count": 4,
   "id": "253807c3-3dc7-4aac-8886-1a711eebcc80",
   "metadata": {},
   "outputs": [
    {
     "data": {
      "text/plain": [
       "Id                  148654\n",
       "EmployeeName        110811\n",
       "JobTitle              2159\n",
       "BasePay             109489\n",
       "OvertimePay          65998\n",
       "OtherPay             83225\n",
       "Benefits             98465\n",
       "TotalPay            138486\n",
       "TotalPayBenefits    142098\n",
       "Year                     4\n",
       "Notes                    0\n",
       "Agency                   1\n",
       "Status                   0\n",
       "dtype: int64"
      ]
     },
     "execution_count": 4,
     "metadata": {},
     "output_type": "execute_result"
    }
   ],
   "source": [
    "df.nunique()"
   ]
  },
  {
   "cell_type": "code",
   "execution_count": 5,
   "id": "4d801936-2115-499d-9caf-5b2645d8112b",
   "metadata": {},
   "outputs": [
    {
     "name": "stdout",
     "output_type": "stream",
     "text": [
      "<class 'pandas.core.frame.DataFrame'>\n",
      "RangeIndex: 148654 entries, 0 to 148653\n",
      "Data columns (total 13 columns):\n",
      " #   Column            Non-Null Count   Dtype  \n",
      "---  ------            --------------   -----  \n",
      " 0   Id                148654 non-null  int64  \n",
      " 1   EmployeeName      148654 non-null  object \n",
      " 2   JobTitle          148654 non-null  object \n",
      " 3   BasePay           148045 non-null  float64\n",
      " 4   OvertimePay       148650 non-null  float64\n",
      " 5   OtherPay          148650 non-null  float64\n",
      " 6   Benefits          112491 non-null  float64\n",
      " 7   TotalPay          148654 non-null  float64\n",
      " 8   TotalPayBenefits  148654 non-null  float64\n",
      " 9   Year              148654 non-null  int64  \n",
      " 10  Notes             0 non-null       float64\n",
      " 11  Agency            148654 non-null  object \n",
      " 12  Status            0 non-null       float64\n",
      "dtypes: float64(8), int64(2), object(3)\n",
      "memory usage: 14.7+ MB\n"
     ]
    }
   ],
   "source": [
    "df.info()"
   ]
  },
  {
   "cell_type": "code",
   "execution_count": 6,
   "id": "14e42fb7-0c94-4ad4-96c7-d27ec1407078",
   "metadata": {},
   "outputs": [
    {
     "data": {
      "text/plain": [
       "Id                       0\n",
       "EmployeeName             0\n",
       "JobTitle                 0\n",
       "BasePay                609\n",
       "OvertimePay              4\n",
       "OtherPay                 4\n",
       "Benefits             36163\n",
       "TotalPay                 0\n",
       "TotalPayBenefits         0\n",
       "Year                     0\n",
       "Notes               148654\n",
       "Agency                   0\n",
       "Status              148654\n",
       "dtype: int64"
      ]
     },
     "execution_count": 6,
     "metadata": {},
     "output_type": "execute_result"
    }
   ],
   "source": [
    "df.isnull().sum()\n"
   ]
  },
  {
   "cell_type": "code",
   "execution_count": 7,
   "id": "cc43a8d1-fbcf-48ed-8a6a-c16aa43cd017",
   "metadata": {},
   "outputs": [
    {
     "data": {
      "text/plain": [
       "0"
      ]
     },
     "execution_count": 7,
     "metadata": {},
     "output_type": "execute_result"
    }
   ],
   "source": [
    "df.duplicated().sum()"
   ]
  },
  {
   "cell_type": "markdown",
   "id": "4c30b9c3-788f-45b3-8f94-f0d7e836b153",
   "metadata": {},
   "source": [
    "### *Descriptive Statistics:* Calculate basic statistics mean, median, mode, minimum, and maximum salary, determine the range of salaries, and find the standard deviation."
   ]
  },
  {
   "cell_type": "code",
   "execution_count": 8,
   "id": "450fc878-45f0-4c6b-983b-562212ed20b8",
   "metadata": {},
   "outputs": [
    {
     "name": "stdout",
     "output_type": "stream",
     "text": [
      "                  Id        BasePay    OvertimePay       OtherPay  \\\n",
      "count  148654.000000  148045.000000  148650.000000  148650.000000   \n",
      "mean    74327.500000   66325.448840    5066.059886    3648.767297   \n",
      "std     42912.857795   42764.635495   11454.380559    8056.601866   \n",
      "min         1.000000    -166.010000      -0.010000   -7058.590000   \n",
      "25%     37164.250000   33588.200000       0.000000       0.000000   \n",
      "50%     74327.500000   65007.450000       0.000000     811.270000   \n",
      "75%    111490.750000   94691.050000    4658.175000    4236.065000   \n",
      "max    148654.000000  319275.010000  245131.880000  400184.250000   \n",
      "\n",
      "            Benefits       TotalPay  TotalPayBenefits           Year  Notes  \\\n",
      "count  112491.000000  148654.000000     148654.000000  148654.000000    0.0   \n",
      "mean    25007.893151   74768.321972      93692.554811    2012.522643    NaN   \n",
      "std     15402.215858   50517.005274      62793.533483       1.117538    NaN   \n",
      "min       -33.890000    -618.130000       -618.130000    2011.000000    NaN   \n",
      "25%     11535.395000   36168.995000      44065.650000    2012.000000    NaN   \n",
      "50%     28628.620000   71426.610000      92404.090000    2013.000000    NaN   \n",
      "75%     35566.855000  105839.135000     132876.450000    2014.000000    NaN   \n",
      "max     96570.660000  567595.430000     567595.430000    2014.000000    NaN   \n",
      "\n",
      "       Status  \n",
      "count     0.0  \n",
      "mean      NaN  \n",
      "std       NaN  \n",
      "min       NaN  \n",
      "25%       NaN  \n",
      "50%       NaN  \n",
      "75%       NaN  \n",
      "max       NaN  \n"
     ]
    }
   ],
   "source": [
    "print(df.describe())"
   ]
  },
  {
   "cell_type": "code",
   "execution_count": 9,
   "id": "241d1920-fd5a-468e-b40f-b33da89e9bb8",
   "metadata": {},
   "outputs": [
    {
     "name": "stdout",
     "output_type": "stream",
     "text": [
      "Mean Salary:  74768.32197169267\n"
     ]
    }
   ],
   "source": [
    "MeanSalary = df['TotalPay'].mean()\n",
    "print(\"Mean Salary: \" , MeanSalary)"
   ]
  },
  {
   "cell_type": "code",
   "execution_count": 10,
   "id": "27fa090a-0e16-46db-8c9d-be527c9b6392",
   "metadata": {},
   "outputs": [
    {
     "name": "stdout",
     "output_type": "stream",
     "text": [
      "Median Salary: 71426.60999999999\n"
     ]
    }
   ],
   "source": [
    "MedianSalary = df['TotalPay'].median()\n",
    "print(\"Median Salary:\", MedianSalary)"
   ]
  },
  {
   "cell_type": "code",
   "execution_count": 11,
   "id": "cc308997-d088-4b63-9ec7-e669205d1b00",
   "metadata": {},
   "outputs": [
    {
     "name": "stdout",
     "output_type": "stream",
     "text": [
      "Mode Salary: 0.0\n"
     ]
    }
   ],
   "source": [
    "ModeSalary = df['TotalPay'].mode()[0]\n",
    "print(\"Mode Salary:\", ModeSalary)"
   ]
  },
  {
   "cell_type": "code",
   "execution_count": 12,
   "id": "b944c492-01cc-466f-8c3e-e73d54c27ce2",
   "metadata": {},
   "outputs": [
    {
     "name": "stdout",
     "output_type": "stream",
     "text": [
      "Minimum Salary: -618.13\n",
      "Maximum Salary: 567595.43\n",
      "Range of Salaries OR IQR : 568213.56\n",
      "Standard Deviation of Salaries: 50517.00527394987\n"
     ]
    }
   ],
   "source": [
    "MinSalary = df['TotalPay'].min()\n",
    "print(\"Minimum Salary:\", MinSalary)\n",
    "\n",
    "MaxSalary = df['TotalPay'].max()\n",
    "print(\"Maximum Salary:\", MaxSalary)\n",
    "\n",
    "\n",
    "SalaryRange = MaxSalary - MinSalary\n",
    "print(\"Range of Salaries OR IQR :\", SalaryRange)\n",
    "\n",
    "SalaryStd = df['TotalPay'].std()\n",
    "print(\"Standard Deviation of Salaries:\", SalaryStd)"
   ]
  },
  {
   "cell_type": "markdown",
   "id": "288d69ef-467d-473e-af54-c47a6ac22602",
   "metadata": {},
   "source": [
    "### *Data Cleaning:* Handle missing data by suitable method with explain why you use it."
   ]
  },
  {
   "cell_type": "code",
   "execution_count": 13,
   "id": "86d9737a-e58f-493e-9b23-51bc81eb5345",
   "metadata": {},
   "outputs": [
    {
     "data": {
      "text/html": [
       "<div>\n",
       "<style scoped>\n",
       "    .dataframe tbody tr th:only-of-type {\n",
       "        vertical-align: middle;\n",
       "    }\n",
       "\n",
       "    .dataframe tbody tr th {\n",
       "        vertical-align: top;\n",
       "    }\n",
       "\n",
       "    .dataframe thead th {\n",
       "        text-align: right;\n",
       "    }\n",
       "</style>\n",
       "<table border=\"1\" class=\"dataframe\">\n",
       "  <thead>\n",
       "    <tr style=\"text-align: right;\">\n",
       "      <th></th>\n",
       "      <th>Id</th>\n",
       "      <th>EmployeeName</th>\n",
       "      <th>JobTitle</th>\n",
       "      <th>BasePay</th>\n",
       "      <th>OvertimePay</th>\n",
       "      <th>OtherPay</th>\n",
       "      <th>Benefits</th>\n",
       "      <th>TotalPay</th>\n",
       "      <th>TotalPayBenefits</th>\n",
       "      <th>Year</th>\n",
       "      <th>Notes</th>\n",
       "      <th>Agency</th>\n",
       "      <th>Status</th>\n",
       "    </tr>\n",
       "  </thead>\n",
       "  <tbody>\n",
       "    <tr>\n",
       "      <th>0</th>\n",
       "      <td>1</td>\n",
       "      <td>NATHANIEL FORD</td>\n",
       "      <td>GENERAL MANAGER-METROPOLITAN TRANSIT AUTHORITY</td>\n",
       "      <td>167411.18</td>\n",
       "      <td>0.00</td>\n",
       "      <td>400184.25</td>\n",
       "      <td>NaN</td>\n",
       "      <td>567595.43</td>\n",
       "      <td>567595.43</td>\n",
       "      <td>2011</td>\n",
       "      <td>NaN</td>\n",
       "      <td>San Francisco</td>\n",
       "      <td>NaN</td>\n",
       "    </tr>\n",
       "    <tr>\n",
       "      <th>1</th>\n",
       "      <td>2</td>\n",
       "      <td>GARY JIMENEZ</td>\n",
       "      <td>CAPTAIN III (POLICE DEPARTMENT)</td>\n",
       "      <td>155966.02</td>\n",
       "      <td>245131.88</td>\n",
       "      <td>137811.38</td>\n",
       "      <td>NaN</td>\n",
       "      <td>538909.28</td>\n",
       "      <td>538909.28</td>\n",
       "      <td>2011</td>\n",
       "      <td>NaN</td>\n",
       "      <td>San Francisco</td>\n",
       "      <td>NaN</td>\n",
       "    </tr>\n",
       "    <tr>\n",
       "      <th>2</th>\n",
       "      <td>3</td>\n",
       "      <td>ALBERT PARDINI</td>\n",
       "      <td>CAPTAIN III (POLICE DEPARTMENT)</td>\n",
       "      <td>212739.13</td>\n",
       "      <td>106088.18</td>\n",
       "      <td>16452.60</td>\n",
       "      <td>NaN</td>\n",
       "      <td>335279.91</td>\n",
       "      <td>335279.91</td>\n",
       "      <td>2011</td>\n",
       "      <td>NaN</td>\n",
       "      <td>San Francisco</td>\n",
       "      <td>NaN</td>\n",
       "    </tr>\n",
       "    <tr>\n",
       "      <th>3</th>\n",
       "      <td>4</td>\n",
       "      <td>CHRISTOPHER CHONG</td>\n",
       "      <td>WIRE ROPE CABLE MAINTENANCE MECHANIC</td>\n",
       "      <td>77916.00</td>\n",
       "      <td>56120.71</td>\n",
       "      <td>198306.90</td>\n",
       "      <td>NaN</td>\n",
       "      <td>332343.61</td>\n",
       "      <td>332343.61</td>\n",
       "      <td>2011</td>\n",
       "      <td>NaN</td>\n",
       "      <td>San Francisco</td>\n",
       "      <td>NaN</td>\n",
       "    </tr>\n",
       "    <tr>\n",
       "      <th>4</th>\n",
       "      <td>5</td>\n",
       "      <td>PATRICK GARDNER</td>\n",
       "      <td>DEPUTY CHIEF OF DEPARTMENT,(FIRE DEPARTMENT)</td>\n",
       "      <td>134401.60</td>\n",
       "      <td>9737.00</td>\n",
       "      <td>182234.59</td>\n",
       "      <td>NaN</td>\n",
       "      <td>326373.19</td>\n",
       "      <td>326373.19</td>\n",
       "      <td>2011</td>\n",
       "      <td>NaN</td>\n",
       "      <td>San Francisco</td>\n",
       "      <td>NaN</td>\n",
       "    </tr>\n",
       "  </tbody>\n",
       "</table>\n",
       "</div>"
      ],
      "text/plain": [
       "   Id       EmployeeName                                        JobTitle  \\\n",
       "0   1     NATHANIEL FORD  GENERAL MANAGER-METROPOLITAN TRANSIT AUTHORITY   \n",
       "1   2       GARY JIMENEZ                 CAPTAIN III (POLICE DEPARTMENT)   \n",
       "2   3     ALBERT PARDINI                 CAPTAIN III (POLICE DEPARTMENT)   \n",
       "3   4  CHRISTOPHER CHONG            WIRE ROPE CABLE MAINTENANCE MECHANIC   \n",
       "4   5    PATRICK GARDNER    DEPUTY CHIEF OF DEPARTMENT,(FIRE DEPARTMENT)   \n",
       "\n",
       "     BasePay  OvertimePay   OtherPay  Benefits   TotalPay  TotalPayBenefits  \\\n",
       "0  167411.18         0.00  400184.25       NaN  567595.43         567595.43   \n",
       "1  155966.02    245131.88  137811.38       NaN  538909.28         538909.28   \n",
       "2  212739.13    106088.18   16452.60       NaN  335279.91         335279.91   \n",
       "3   77916.00     56120.71  198306.90       NaN  332343.61         332343.61   \n",
       "4  134401.60      9737.00  182234.59       NaN  326373.19         326373.19   \n",
       "\n",
       "   Year  Notes         Agency  Status  \n",
       "0  2011    NaN  San Francisco     NaN  \n",
       "1  2011    NaN  San Francisco     NaN  \n",
       "2  2011    NaN  San Francisco     NaN  \n",
       "3  2011    NaN  San Francisco     NaN  \n",
       "4  2011    NaN  San Francisco     NaN  "
      ]
     },
     "execution_count": 13,
     "metadata": {},
     "output_type": "execute_result"
    }
   ],
   "source": [
    "df.head()"
   ]
  },
  {
   "cell_type": "code",
   "execution_count": 14,
   "id": "c2a4eb8f-9715-43c5-9414-09e2cc8dd3ea",
   "metadata": {},
   "outputs": [],
   "source": [
    "df.drop('Benefits',axis=1,inplace=True)\n",
    "df.drop('Notes',axis=1,inplace=True)\n",
    "df.drop('Status',axis=1,inplace=True)"
   ]
  },
  {
   "cell_type": "code",
   "execution_count": 15,
   "id": "55d014c6-c00e-4c81-818c-01259cca29f5",
   "metadata": {},
   "outputs": [],
   "source": [
    "#BasePay have small missing data\n",
    "#drop all Null\n",
    "\n",
    "df.dropna(inplace=True)\n",
    "\n",
    "#creat new DataFrame to save original data\n",
    "#new_df=df.drop('Id',axis=1)"
   ]
  },
  {
   "cell_type": "markdown",
   "id": "c8f6d5ce-1bd6-49c1-82c9-d52e0075d7ca",
   "metadata": {},
   "source": [
    "### *Basic Data Visualization:* Create histograms or bar charts to visualize the distribution of salaries, and use pie charts to represent the proportion of employees in different departments."
   ]
  },
  {
   "cell_type": "code",
   "execution_count": 17,
   "id": "3fe32ad6-3b26-405c-af44-f2d91cc514fc",
   "metadata": {},
   "outputs": [
    {
     "data": {
      "image/png": "[encoded data removed]",
      "text/plain": [
       "<Figure size 1000x500 with 1 Axes>"
      ]
     },
     "metadata": {},
     "output_type": "display_data"
    },
    {
     "data": {
      "image/png": "[encoded data removed]",
      "text/plain": [
       "<Figure size 2000x1000 with 1 Axes>"
      ]
     },
     "metadata": {},
     "output_type": "display_data"
    }
   ],
   "source": [
    "# Histogram for salary distribution\n",
    "plt.figure(figsize=(10, 5))\n",
    "plt.hist(df['TotalPay'], bins=10, color='skyblue', edgecolor='black')\n",
    "plt.xlabel('Salary')\n",
    "plt.ylabel('Frequency')\n",
    "plt.title('Salary Distribution')\n",
    "plt.show()\n",
    "\n",
    "# Pie chart for proportion of employees in different departments\n",
    "plt.figure(figsize=(20, 10))\n",
    "dept_counts = df['Year'].value_counts()\n",
    "plt.pie(dept_counts, labels=dept_counts.index, autopct='%1.1f%%')\n",
    "plt.title('Proportion of Employees in Different Departments')\n",
    "plt.show()\n"
   ]
  },
  {
   "cell_type": "markdown",
   "id": "45cc6c9b-2ff8-40ed-b7cc-2e2bd83a4ec4",
   "metadata": {},
   "source": [
    "### *Grouped Analysis:* Group the data by one or more columns and calculate summary statistics for each group, and compare the average salaries across different groups."
   ]
  },
  {
   "cell_type": "code",
   "execution_count": 18,
   "id": "b20234ae-aa2b-4838-9b8a-92299281652a",
   "metadata": {},
   "outputs": [
    {
     "name": "stdout",
     "output_type": "stream",
     "text": [
      "Grouped Summary Statistics for Salary:\n"
     ]
    },
    {
     "data": {
      "text/html": [
       "<div>\n",
       "<style scoped>\n",
       "    .dataframe tbody tr th:only-of-type {\n",
       "        vertical-align: middle;\n",
       "    }\n",
       "\n",
       "    .dataframe tbody tr th {\n",
       "        vertical-align: top;\n",
       "    }\n",
       "\n",
       "    .dataframe thead th {\n",
       "        text-align: right;\n",
       "    }\n",
       "</style>\n",
       "<table border=\"1\" class=\"dataframe\">\n",
       "  <thead>\n",
       "    <tr style=\"text-align: right;\">\n",
       "      <th>JobTitle</th>\n",
       "      <th>ACCOUNT CLERK</th>\n",
       "      <th>ACCOUNTANT</th>\n",
       "      <th>ACCOUNTANT INTERN</th>\n",
       "      <th>ACPO,JuvP, Juv Prob (SFERS)</th>\n",
       "      <th>ACUPUNCTURIST</th>\n",
       "      <th>ADMINISTRATIVE ANALYST</th>\n",
       "      <th>ADMINISTRATIVE ANALYST II</th>\n",
       "      <th>ADMINISTRATIVE ANALYST III</th>\n",
       "      <th>ADMINISTRATIVE ENGINEER</th>\n",
       "      <th>ADMINISTRATIVE SERVICES MANAGER</th>\n",
       "      <th>...</th>\n",
       "      <th>Window Cleaner Supervisor</th>\n",
       "      <th>Wire Rope Cable Maint Mechanic</th>\n",
       "      <th>Wire Rope Cable Maint Sprv</th>\n",
       "      <th>Worker's Comp Supervisor 1</th>\n",
       "      <th>Worker's Compensation Adjuster</th>\n",
       "      <th>X-RAY LABORATORY AIDE</th>\n",
       "      <th>X-Ray Laboratory Aide</th>\n",
       "      <th>YOUTH COMMISSION ADVISOR, BOARD OF SUPERVISORS</th>\n",
       "      <th>Youth Comm Advisor</th>\n",
       "      <th>ZOO CURATOR</th>\n",
       "    </tr>\n",
       "  </thead>\n",
       "  <tbody>\n",
       "    <tr>\n",
       "      <th>count</th>\n",
       "      <td>83.000000</td>\n",
       "      <td>5.000000</td>\n",
       "      <td>48.000000</td>\n",
       "      <td>1.00</td>\n",
       "      <td>1.0</td>\n",
       "      <td>93.000000</td>\n",
       "      <td>2.000000</td>\n",
       "      <td>2.000000</td>\n",
       "      <td>10.000000</td>\n",
       "      <td>3.00000</td>\n",
       "      <td>...</td>\n",
       "      <td>3.000000</td>\n",
       "      <td>29.000000</td>\n",
       "      <td>3.000000</td>\n",
       "      <td>14.000000</td>\n",
       "      <td>74.000000</td>\n",
       "      <td>26.000000</td>\n",
       "      <td>100.000000</td>\n",
       "      <td>1.00</td>\n",
       "      <td>4.000000</td>\n",
       "      <td>1.00</td>\n",
       "    </tr>\n",
       "    <tr>\n",
       "      <th>mean</th>\n",
       "      <td>44035.664337</td>\n",
       "      <td>47429.268000</td>\n",
       "      <td>29031.742917</td>\n",
       "      <td>62290.78</td>\n",
       "      <td>67594.4</td>\n",
       "      <td>63954.867527</td>\n",
       "      <td>61497.035000</td>\n",
       "      <td>92698.515000</td>\n",
       "      <td>127961.430000</td>\n",
       "      <td>77015.58000</td>\n",
       "      <td>...</td>\n",
       "      <td>77512.493333</td>\n",
       "      <td>116080.888966</td>\n",
       "      <td>203033.720000</td>\n",
       "      <td>70389.297143</td>\n",
       "      <td>73249.269865</td>\n",
       "      <td>52705.880385</td>\n",
       "      <td>50823.942700</td>\n",
       "      <td>53632.87</td>\n",
       "      <td>41414.307500</td>\n",
       "      <td>66686.56</td>\n",
       "    </tr>\n",
       "    <tr>\n",
       "      <th>std</th>\n",
       "      <td>13170.742908</td>\n",
       "      <td>27137.331315</td>\n",
       "      <td>20711.322649</td>\n",
       "      <td>NaN</td>\n",
       "      <td>NaN</td>\n",
       "      <td>18613.695839</td>\n",
       "      <td>19924.550824</td>\n",
       "      <td>209.989501</td>\n",
       "      <td>14993.074838</td>\n",
       "      <td>20033.53961</td>\n",
       "      <td>...</td>\n",
       "      <td>3653.407319</td>\n",
       "      <td>56352.451981</td>\n",
       "      <td>18943.310631</td>\n",
       "      <td>38380.304769</td>\n",
       "      <td>20057.372880</td>\n",
       "      <td>19760.943417</td>\n",
       "      <td>24170.083004</td>\n",
       "      <td>NaN</td>\n",
       "      <td>17311.066571</td>\n",
       "      <td>NaN</td>\n",
       "    </tr>\n",
       "    <tr>\n",
       "      <th>min</th>\n",
       "      <td>614.000000</td>\n",
       "      <td>1148.400000</td>\n",
       "      <td>2981.530000</td>\n",
       "      <td>62290.78</td>\n",
       "      <td>67594.4</td>\n",
       "      <td>2388.240000</td>\n",
       "      <td>47408.250000</td>\n",
       "      <td>92550.030000</td>\n",
       "      <td>91833.330000</td>\n",
       "      <td>54261.37000</td>\n",
       "      <td>...</td>\n",
       "      <td>73329.000000</td>\n",
       "      <td>4219.660000</td>\n",
       "      <td>190575.900000</td>\n",
       "      <td>56.640000</td>\n",
       "      <td>1837.390000</td>\n",
       "      <td>5343.690000</td>\n",
       "      <td>1007.000000</td>\n",
       "      <td>53632.87</td>\n",
       "      <td>19212.710000</td>\n",
       "      <td>66686.56</td>\n",
       "    </tr>\n",
       "    <tr>\n",
       "      <th>25%</th>\n",
       "      <td>42984.010000</td>\n",
       "      <td>45304.380000</td>\n",
       "      <td>9940.000000</td>\n",
       "      <td>62290.78</td>\n",
       "      <td>67594.4</td>\n",
       "      <td>62136.510000</td>\n",
       "      <td>54452.642500</td>\n",
       "      <td>92624.272500</td>\n",
       "      <td>129235.230000</td>\n",
       "      <td>69522.37000</td>\n",
       "      <td>...</td>\n",
       "      <td>76231.475000</td>\n",
       "      <td>84566.820000</td>\n",
       "      <td>192133.845000</td>\n",
       "      <td>41840.500000</td>\n",
       "      <td>69508.625000</td>\n",
       "      <td>51729.915000</td>\n",
       "      <td>26919.207500</td>\n",
       "      <td>53632.87</td>\n",
       "      <td>32152.610000</td>\n",
       "      <td>66686.56</td>\n",
       "    </tr>\n",
       "    <tr>\n",
       "      <th>50%</th>\n",
       "      <td>49777.820000</td>\n",
       "      <td>60076.240000</td>\n",
       "      <td>17658.505000</td>\n",
       "      <td>62290.78</td>\n",
       "      <td>67594.4</td>\n",
       "      <td>71602.900000</td>\n",
       "      <td>61497.035000</td>\n",
       "      <td>92698.515000</td>\n",
       "      <td>130171.065000</td>\n",
       "      <td>84783.37000</td>\n",
       "      <td>...</td>\n",
       "      <td>79133.950000</td>\n",
       "      <td>131611.440000</td>\n",
       "      <td>193691.790000</td>\n",
       "      <td>92558.110000</td>\n",
       "      <td>80348.540000</td>\n",
       "      <td>60333.125000</td>\n",
       "      <td>60047.290000</td>\n",
       "      <td>53632.87</td>\n",
       "      <td>44449.895000</td>\n",
       "      <td>66686.56</td>\n",
       "    </tr>\n",
       "    <tr>\n",
       "      <th>75%</th>\n",
       "      <td>50401.810000</td>\n",
       "      <td>65225.310000</td>\n",
       "      <td>53789.800000</td>\n",
       "      <td>62290.78</td>\n",
       "      <td>67594.4</td>\n",
       "      <td>75005.630000</td>\n",
       "      <td>68541.427500</td>\n",
       "      <td>92772.757500</td>\n",
       "      <td>133775.530000</td>\n",
       "      <td>88392.68500</td>\n",
       "      <td>...</td>\n",
       "      <td>79604.240000</td>\n",
       "      <td>154625.470000</td>\n",
       "      <td>209262.630000</td>\n",
       "      <td>100810.357500</td>\n",
       "      <td>85185.037500</td>\n",
       "      <td>64305.285000</td>\n",
       "      <td>68306.242500</td>\n",
       "      <td>53632.87</td>\n",
       "      <td>53711.592500</td>\n",
       "      <td>66686.56</td>\n",
       "    </tr>\n",
       "    <tr>\n",
       "      <th>max</th>\n",
       "      <td>60838.200000</td>\n",
       "      <td>65392.010000</td>\n",
       "      <td>58799.530000</td>\n",
       "      <td>62290.78</td>\n",
       "      <td>67594.4</td>\n",
       "      <td>79754.030000</td>\n",
       "      <td>75585.820000</td>\n",
       "      <td>92847.000000</td>\n",
       "      <td>149322.230000</td>\n",
       "      <td>92002.00000</td>\n",
       "      <td>...</td>\n",
       "      <td>80074.530000</td>\n",
       "      <td>189630.640000</td>\n",
       "      <td>224833.470000</td>\n",
       "      <td>108810.030000</td>\n",
       "      <td>106050.660000</td>\n",
       "      <td>85077.400000</td>\n",
       "      <td>99812.970000</td>\n",
       "      <td>53632.87</td>\n",
       "      <td>57544.730000</td>\n",
       "      <td>66686.56</td>\n",
       "    </tr>\n",
       "  </tbody>\n",
       "</table>\n",
       "<p>8 rows × 2154 columns</p>\n",
       "</div>"
      ],
      "text/plain": [
       "JobTitle  ACCOUNT CLERK    ACCOUNTANT  ACCOUNTANT INTERN  \\\n",
       "count         83.000000      5.000000          48.000000   \n",
       "mean       44035.664337  47429.268000       29031.742917   \n",
       "std        13170.742908  27137.331315       20711.322649   \n",
       "min          614.000000   1148.400000        2981.530000   \n",
       "25%        42984.010000  45304.380000        9940.000000   \n",
       "50%        49777.820000  60076.240000       17658.505000   \n",
       "75%        50401.810000  65225.310000       53789.800000   \n",
       "max        60838.200000  65392.010000       58799.530000   \n",
       "\n",
       "JobTitle  ACPO,JuvP, Juv Prob (SFERS)  ACUPUNCTURIST  ADMINISTRATIVE ANALYST  \\\n",
       "count                            1.00            1.0               93.000000   \n",
       "mean                         62290.78        67594.4            63954.867527   \n",
       "std                               NaN            NaN            18613.695839   \n",
       "min                          62290.78        67594.4             2388.240000   \n",
       "25%                          62290.78        67594.4            62136.510000   \n",
       "50%                          62290.78        67594.4            71602.900000   \n",
       "75%                          62290.78        67594.4            75005.630000   \n",
       "max                          62290.78        67594.4            79754.030000   \n",
       "\n",
       "JobTitle  ADMINISTRATIVE ANALYST II  ADMINISTRATIVE ANALYST III  \\\n",
       "count                      2.000000                    2.000000   \n",
       "mean                   61497.035000                92698.515000   \n",
       "std                    19924.550824                  209.989501   \n",
       "min                    47408.250000                92550.030000   \n",
       "25%                    54452.642500                92624.272500   \n",
       "50%                    61497.035000                92698.515000   \n",
       "75%                    68541.427500                92772.757500   \n",
       "max                    75585.820000                92847.000000   \n",
       "\n",
       "JobTitle  ADMINISTRATIVE ENGINEER  ADMINISTRATIVE SERVICES MANAGER  ...  \\\n",
       "count                   10.000000                          3.00000  ...   \n",
       "mean                127961.430000                      77015.58000  ...   \n",
       "std                  14993.074838                      20033.53961  ...   \n",
       "min                  91833.330000                      54261.37000  ...   \n",
       "25%                 129235.230000                      69522.37000  ...   \n",
       "50%                 130171.065000                      84783.37000  ...   \n",
       "75%                 133775.530000                      88392.68500  ...   \n",
       "max                 149322.230000                      92002.00000  ...   \n",
       "\n",
       "JobTitle  Window Cleaner Supervisor  Wire Rope Cable Maint Mechanic  \\\n",
       "count                      3.000000                       29.000000   \n",
       "mean                   77512.493333                   116080.888966   \n",
       "std                     3653.407319                    56352.451981   \n",
       "min                    73329.000000                     4219.660000   \n",
       "25%                    76231.475000                    84566.820000   \n",
       "50%                    79133.950000                   131611.440000   \n",
       "75%                    79604.240000                   154625.470000   \n",
       "max                    80074.530000                   189630.640000   \n",
       "\n",
       "JobTitle  Wire Rope Cable Maint Sprv  Worker's Comp Supervisor 1  \\\n",
       "count                       3.000000                   14.000000   \n",
       "mean                   203033.720000                70389.297143   \n",
       "std                     18943.310631                38380.304769   \n",
       "min                    190575.900000                   56.640000   \n",
       "25%                    192133.845000                41840.500000   \n",
       "50%                    193691.790000                92558.110000   \n",
       "75%                    209262.630000               100810.357500   \n",
       "max                    224833.470000               108810.030000   \n",
       "\n",
       "JobTitle  Worker's Compensation Adjuster  X-RAY LABORATORY AIDE  \\\n",
       "count                          74.000000              26.000000   \n",
       "mean                        73249.269865           52705.880385   \n",
       "std                         20057.372880           19760.943417   \n",
       "min                          1837.390000            5343.690000   \n",
       "25%                         69508.625000           51729.915000   \n",
       "50%                         80348.540000           60333.125000   \n",
       "75%                         85185.037500           64305.285000   \n",
       "max                        106050.660000           85077.400000   \n",
       "\n",
       "JobTitle  X-Ray Laboratory Aide  \\\n",
       "count                100.000000   \n",
       "mean               50823.942700   \n",
       "std                24170.083004   \n",
       "min                 1007.000000   \n",
       "25%                26919.207500   \n",
       "50%                60047.290000   \n",
       "75%                68306.242500   \n",
       "max                99812.970000   \n",
       "\n",
       "JobTitle  YOUTH COMMISSION ADVISOR, BOARD OF SUPERVISORS  Youth Comm Advisor  \\\n",
       "count                                               1.00            4.000000   \n",
       "mean                                            53632.87        41414.307500   \n",
       "std                                                  NaN        17311.066571   \n",
       "min                                             53632.87        19212.710000   \n",
       "25%                                             53632.87        32152.610000   \n",
       "50%                                             53632.87        44449.895000   \n",
       "75%                                             53632.87        53711.592500   \n",
       "max                                             53632.87        57544.730000   \n",
       "\n",
       "JobTitle  ZOO CURATOR  \n",
       "count            1.00  \n",
       "mean         66686.56  \n",
       "std               NaN  \n",
       "min          66686.56  \n",
       "25%          66686.56  \n",
       "50%          66686.56  \n",
       "75%          66686.56  \n",
       "max          66686.56  \n",
       "\n",
       "[8 rows x 2154 columns]"
      ]
     },
     "execution_count": 18,
     "metadata": {},
     "output_type": "execute_result"
    }
   ],
   "source": [
    "# Group data by department and calculate summary statistics for each group\n",
    "grouped_stats = df.groupby('JobTitle')['TotalPay'].describe().T\n",
    "print(\"Grouped Summary Statistics for Salary:\")\n",
    "grouped_stats"
   ]
  },
  {
   "cell_type": "code",
   "execution_count": 19,
   "id": "1ad2c3fd-b580-4014-bcc1-adf9f1f1a2b6",
   "metadata": {},
   "outputs": [
    {
     "name": "stdout",
     "output_type": "stream",
     "text": [
      "Average Salary :\n"
     ]
    },
    {
     "data": {
      "text/plain": [
       "JobTitle\n",
       "ACCOUNT CLERK                                     44035.664337\n",
       "ACCOUNTANT                                        47429.268000\n",
       "ACCOUNTANT INTERN                                 29031.742917\n",
       "ACPO,JuvP, Juv Prob (SFERS)                       62290.780000\n",
       "ACUPUNCTURIST                                     67594.400000\n",
       "                                                      ...     \n",
       "X-RAY LABORATORY AIDE                             52705.880385\n",
       "X-Ray Laboratory Aide                             50823.942700\n",
       "YOUTH COMMISSION ADVISOR, BOARD OF SUPERVISORS    53632.870000\n",
       "Youth Comm Advisor                                41414.307500\n",
       "ZOO CURATOR                                       66686.560000\n",
       "Name: TotalPay, Length: 2154, dtype: float64"
      ]
     },
     "execution_count": 19,
     "metadata": {},
     "output_type": "execute_result"
    }
   ],
   "source": [
    "# Compare average salaries across different groups\n",
    "average_salary = df.groupby('JobTitle')['TotalPay'].mean()\n",
    "print(\"Average Salary :\")\n",
    "average_salary"
   ]
  },
  {
   "cell_type": "markdown",
   "id": "0c6cd2cf-b2e5-490e-97e5-d279f964ef2a",
   "metadata": {},
   "source": [
    "### *Simple Correlation Analysis:* Identify any correlation between salary and another numerical column, and plot a scatter plot to visualize the relationship."
   ]
  },
  {
   "cell_type": "code",
   "execution_count": 20,
   "id": "58dca069-0439-4546-9b64-f707aff55b11",
   "metadata": {},
   "outputs": [
    {
     "data": {
      "text/plain": [
       "Text(0.5, 1.0, 'Correlation of numerical attributes with TotalPay (salaru)')"
      ]
     },
     "execution_count": 20,
     "metadata": {},
     "output_type": "execute_result"
    },
    {
     "data": {
      "image/png": "[encoded data removed]",
      "text/plain": [
       "<Figure size 2000x500 with 4 Axes>"
      ]
     },
     "metadata": {},
     "output_type": "display_data"
    }
   ],
   "source": [
    "f, axs = plt.subplots(1, 2, figsize=(20, 5), width_ratios=[3, 1])\n",
    "\n",
    "sns.heatmap(data=new_df.corr(method=\"pearson\", numeric_only=True), vmin=-1, vmax=1, annot=True, ax=axs[0])\n",
    "axs[0].set_title(\"Correlation matrix\")\n",
    "\n",
    "sns.heatmap(data=new_df.corr(method=\"pearson\", numeric_only=True)[[\"TotalPay\"]].sort_values('TotalPay', ascending=False), vmin=-1, vmax=1, annot=True, ax=axs[1])\n",
    "axs[1].set_title(\"Correlation of numerical attributes with TotalPay (salaru)\")"
   ]
  },
  {
   "cell_type": "code",
   "execution_count": 22,
   "id": "28995555-b84f-4562-ad97-256a6836c04f",
   "metadata": {},
   "outputs": [
    {
     "data": {
      "image/png": "[encoded data removed]",
      "text/plain": [
       "<Figure size 640x480 with 1 Axes>"
      ]
     },
     "metadata": {},
     "output_type": "display_data"
    }
   ],
   "source": [
    "  plt.scatter(df['Year'], df['TotalPay'])\n",
    "  plt.xlabel('Year')\n",
    "  plt.ylabel('TotalPay')\n",
    "  plt.title('Scatter Plot: TotalPay vs Year')\n",
    "  plt.show()\n"
   ]
  }
 ],
 "metadata": {
  "kernelspec": {
   "display_name": "Python 3 (ipykernel)",
   "language": "python",
   "name": "python3"
  },
  "language_info": {
   "codemirror_mode": {
    "name": "ipython",
    "version": 3
   },
   "file_extension": ".py",
   "mimetype": "text/x-python",
   "name": "python",
   "nbconvert_exporter": "python",
   "pygments_lexer": "ipython3",
   "version": "3.11.4"
  }
 },
 "nbformat": 4,
 "nbformat_minor": 5
}
